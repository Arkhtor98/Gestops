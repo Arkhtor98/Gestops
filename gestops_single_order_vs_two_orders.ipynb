{
  "nbformat": 4,
  "nbformat_minor": 0,
  "metadata": {
    "colab": {
      "name": "gestops single order vs two orders.ipynb",
      "provenance": [],
      "collapsed_sections": [],
      "toc_visible": true,
      "authorship_tag": "ABX9TyOB+FY2fa1c0873Dj4pYTGg",
      "include_colab_link": true
    },
    "kernelspec": {
      "name": "python3",
      "display_name": "Python 3"
    }
  },
  "cells": [
    {
      "cell_type": "markdown",
      "metadata": {
        "id": "view-in-github",
        "colab_type": "text"
      },
      "source": [
        "<a href=\"https://colab.research.google.com/github/Arkhtor98/Gestops/blob/main/gestops_single_order_vs_two_orders.ipynb\" target=\"_parent\"><img src=\"https://colab.research.google.com/assets/colab-badge.svg\" alt=\"Open In Colab\"/></a>"
      ]
    },
    {
      "cell_type": "markdown",
      "metadata": {
        "id": "Tl2ClZZ0Z4bR"
      },
      "source": [
        "#General definitions\r\n",
        "First we need to define the numbers we're going to work with. We will work with simple numbers : Let $p$ be the price we can sell the good at, $c$ the cost of that good, $s$ the residual value if we cannot sell that good (note that it can be negative in case of a cost of disposal), and $c'$ the premium cost in the second order case.\r\n",
        "\r\n",
        "$p = 100$ \\\\\r\n",
        "$c = 30$ \\\\\r\n",
        "$s = 10$ \\\\\r\n",
        "$c' = 45$ \\\\\r\n",
        "\r\n",
        "For the sake of this little experiment, I will generate $1000$ random numbers from a lognormal distribution for each volatility ranging from $0$ to $1$, with steps of $0.01$, which will give me $101$ volatilities to work with, so $101'000$ data points.\r\n",
        "\r\n",
        "Let's also define our demand distribution. It will be log-normally distributed, with a median of $100$.\r\n",
        "\r\n",
        "\r\n",
        "To not make the graphs insanely complicated, I will  take the mean and standard moments (standard deviation, 3 quartiles) of profits for each volatility, and plot them to compare both options : taking a bigger risk by not taking the option of ordering again, or playing it safe. I want to see if it depends on volatility, or if the dominance is stochastic (plus it allows me to train my Python skills).\r\n",
        "\r\n",
        "Then I will start by importing the necessary libraries : matplotlib will be able to plot the data, math for the exponential function, numpy for arrays, pandas for data visualisation with dataframes, matplotlib for plotting, scipy for the normal inverse, and statistics for the standard deviation."
      ]
    },
    {
      "cell_type": "code",
      "metadata": {
        "id": "CZH9CqBEeVPn"
      },
      "source": [
        "import matplotlib.pyplot as plt\r\n",
        "import math\r\n",
        "import numpy as np\r\n",
        "import pandas as pd\r\n",
        "from scipy.stats import norm\r\n",
        "import statistics"
      ],
      "execution_count": 1,
      "outputs": []
    },
    {
      "cell_type": "markdown",
      "metadata": {
        "id": "CDl4LSGxej66"
      },
      "source": [
        "I will then generate $1000$ random numbers using the numpy library, and stock them in a dataframe to use them for both cases, which will allow me to compare them.\r\n",
        "\r\n",
        "For simplicity's sake, I will take the approach seen in the lectures : generate a random z-score from a normal distribution, and find the demand associated."
      ]
    },
    {
      "cell_type": "code",
      "metadata": {
        "id": "QjuHsnz2xuVo",
        "colab": {
          "base_uri": "https://localhost:8080/",
          "height": 253
        },
        "outputId": "6adb6564-460c-4614-8e15-f8675c23a482"
      },
      "source": [
        "# let's create tuples that will stock one volatility and a list of demands generated from a random number.\r\n",
        "#our tuples will look like this : (volatility , [list of 1000 random numbers])\r\n",
        "\r\n",
        "mean_normal = 1.605\r\n",
        "median = 100\r\n",
        "list_demands=[]\r\n",
        "rng = np.random.default_rng()\r\n",
        "columns = pd.Series(np.arange(1,1001)) #we generate a series which will contain our observations as headers\r\n",
        "random_demand = pd.DataFrame(columns = columns) #we create an empty dataframe\r\n",
        "\r\n",
        "for i in range(101):\r\n",
        "  list_demands.clear()\r\n",
        "  for j in range(1000):\r\n",
        "    z = rng.normal() #generates a random z-score from a standardised normal distribution\r\n",
        "    #find the associated order quantity\r\n",
        "    n = math.exp(z*i/100)\r\n",
        "    d = round(n*median,3) #rounding to 3 decimals \r\n",
        "    list_demands.append(d)\r\n",
        "  random_demand.loc[i/100] = list_demands.copy()\r\n",
        "  \r\n",
        "random_demand.head() \r\n",
        "#we can see that we have the volatilities as indexes, and the observations as rows. We also notice that it is consistent with data, with the first row being the median\r\n"
      ],
      "execution_count": 2,
      "outputs": [
        {
          "output_type": "execute_result",
          "data": {
            "text/html": [
              "<div>\n",
              "<style scoped>\n",
              "    .dataframe tbody tr th:only-of-type {\n",
              "        vertical-align: middle;\n",
              "    }\n",
              "\n",
              "    .dataframe tbody tr th {\n",
              "        vertical-align: top;\n",
              "    }\n",
              "\n",
              "    .dataframe thead th {\n",
              "        text-align: right;\n",
              "    }\n",
              "</style>\n",
              "<table border=\"1\" class=\"dataframe\">\n",
              "  <thead>\n",
              "    <tr style=\"text-align: right;\">\n",
              "      <th></th>\n",
              "      <th>1</th>\n",
              "      <th>2</th>\n",
              "      <th>3</th>\n",
              "      <th>4</th>\n",
              "      <th>5</th>\n",
              "      <th>6</th>\n",
              "      <th>7</th>\n",
              "      <th>8</th>\n",
              "      <th>9</th>\n",
              "      <th>10</th>\n",
              "      <th>11</th>\n",
              "      <th>12</th>\n",
              "      <th>13</th>\n",
              "      <th>14</th>\n",
              "      <th>15</th>\n",
              "      <th>16</th>\n",
              "      <th>17</th>\n",
              "      <th>18</th>\n",
              "      <th>19</th>\n",
              "      <th>20</th>\n",
              "      <th>21</th>\n",
              "      <th>22</th>\n",
              "      <th>23</th>\n",
              "      <th>24</th>\n",
              "      <th>25</th>\n",
              "      <th>26</th>\n",
              "      <th>27</th>\n",
              "      <th>28</th>\n",
              "      <th>29</th>\n",
              "      <th>30</th>\n",
              "      <th>31</th>\n",
              "      <th>32</th>\n",
              "      <th>33</th>\n",
              "      <th>34</th>\n",
              "      <th>35</th>\n",
              "      <th>36</th>\n",
              "      <th>37</th>\n",
              "      <th>38</th>\n",
              "      <th>39</th>\n",
              "      <th>40</th>\n",
              "      <th>...</th>\n",
              "      <th>961</th>\n",
              "      <th>962</th>\n",
              "      <th>963</th>\n",
              "      <th>964</th>\n",
              "      <th>965</th>\n",
              "      <th>966</th>\n",
              "      <th>967</th>\n",
              "      <th>968</th>\n",
              "      <th>969</th>\n",
              "      <th>970</th>\n",
              "      <th>971</th>\n",
              "      <th>972</th>\n",
              "      <th>973</th>\n",
              "      <th>974</th>\n",
              "      <th>975</th>\n",
              "      <th>976</th>\n",
              "      <th>977</th>\n",
              "      <th>978</th>\n",
              "      <th>979</th>\n",
              "      <th>980</th>\n",
              "      <th>981</th>\n",
              "      <th>982</th>\n",
              "      <th>983</th>\n",
              "      <th>984</th>\n",
              "      <th>985</th>\n",
              "      <th>986</th>\n",
              "      <th>987</th>\n",
              "      <th>988</th>\n",
              "      <th>989</th>\n",
              "      <th>990</th>\n",
              "      <th>991</th>\n",
              "      <th>992</th>\n",
              "      <th>993</th>\n",
              "      <th>994</th>\n",
              "      <th>995</th>\n",
              "      <th>996</th>\n",
              "      <th>997</th>\n",
              "      <th>998</th>\n",
              "      <th>999</th>\n",
              "      <th>1000</th>\n",
              "    </tr>\n",
              "  </thead>\n",
              "  <tbody>\n",
              "    <tr>\n",
              "      <th>0.00</th>\n",
              "      <td>100.000</td>\n",
              "      <td>100.000</td>\n",
              "      <td>100.000</td>\n",
              "      <td>100.000</td>\n",
              "      <td>100.000</td>\n",
              "      <td>100.000</td>\n",
              "      <td>100.000</td>\n",
              "      <td>100.000</td>\n",
              "      <td>100.000</td>\n",
              "      <td>100.000</td>\n",
              "      <td>100.000</td>\n",
              "      <td>100.000</td>\n",
              "      <td>100.000</td>\n",
              "      <td>100.000</td>\n",
              "      <td>100.000</td>\n",
              "      <td>100.000</td>\n",
              "      <td>100.000</td>\n",
              "      <td>100.000</td>\n",
              "      <td>100.000</td>\n",
              "      <td>100.000</td>\n",
              "      <td>100.000</td>\n",
              "      <td>100.000</td>\n",
              "      <td>100.000</td>\n",
              "      <td>100.000</td>\n",
              "      <td>100.000</td>\n",
              "      <td>100.000</td>\n",
              "      <td>100.000</td>\n",
              "      <td>100.000</td>\n",
              "      <td>100.000</td>\n",
              "      <td>100.000</td>\n",
              "      <td>100.000</td>\n",
              "      <td>100.000</td>\n",
              "      <td>100.000</td>\n",
              "      <td>100.000</td>\n",
              "      <td>100.000</td>\n",
              "      <td>100.000</td>\n",
              "      <td>100.000</td>\n",
              "      <td>100.000</td>\n",
              "      <td>100.000</td>\n",
              "      <td>100.000</td>\n",
              "      <td>...</td>\n",
              "      <td>100.000</td>\n",
              "      <td>100.000</td>\n",
              "      <td>100.000</td>\n",
              "      <td>100.000</td>\n",
              "      <td>100.000</td>\n",
              "      <td>100.000</td>\n",
              "      <td>100.000</td>\n",
              "      <td>100.000</td>\n",
              "      <td>100.000</td>\n",
              "      <td>100.000</td>\n",
              "      <td>100.000</td>\n",
              "      <td>100.000</td>\n",
              "      <td>100.000</td>\n",
              "      <td>100.000</td>\n",
              "      <td>100.000</td>\n",
              "      <td>100.000</td>\n",
              "      <td>100.000</td>\n",
              "      <td>100.000</td>\n",
              "      <td>100.000</td>\n",
              "      <td>100.000</td>\n",
              "      <td>100.000</td>\n",
              "      <td>100.000</td>\n",
              "      <td>100.000</td>\n",
              "      <td>100.000</td>\n",
              "      <td>100.000</td>\n",
              "      <td>100.000</td>\n",
              "      <td>100.000</td>\n",
              "      <td>100.000</td>\n",
              "      <td>100.000</td>\n",
              "      <td>100.000</td>\n",
              "      <td>100.000</td>\n",
              "      <td>100.000</td>\n",
              "      <td>100.000</td>\n",
              "      <td>100.000</td>\n",
              "      <td>100.000</td>\n",
              "      <td>100.000</td>\n",
              "      <td>100.000</td>\n",
              "      <td>100.000</td>\n",
              "      <td>100.000</td>\n",
              "      <td>100.000</td>\n",
              "    </tr>\n",
              "    <tr>\n",
              "      <th>0.01</th>\n",
              "      <td>101.038</td>\n",
              "      <td>99.899</td>\n",
              "      <td>99.422</td>\n",
              "      <td>99.735</td>\n",
              "      <td>99.053</td>\n",
              "      <td>99.020</td>\n",
              "      <td>99.216</td>\n",
              "      <td>101.051</td>\n",
              "      <td>99.343</td>\n",
              "      <td>99.692</td>\n",
              "      <td>98.812</td>\n",
              "      <td>100.955</td>\n",
              "      <td>99.596</td>\n",
              "      <td>101.134</td>\n",
              "      <td>100.062</td>\n",
              "      <td>101.228</td>\n",
              "      <td>101.430</td>\n",
              "      <td>99.924</td>\n",
              "      <td>100.861</td>\n",
              "      <td>98.296</td>\n",
              "      <td>99.204</td>\n",
              "      <td>99.745</td>\n",
              "      <td>101.248</td>\n",
              "      <td>101.136</td>\n",
              "      <td>98.562</td>\n",
              "      <td>100.191</td>\n",
              "      <td>100.102</td>\n",
              "      <td>99.486</td>\n",
              "      <td>100.049</td>\n",
              "      <td>101.200</td>\n",
              "      <td>99.825</td>\n",
              "      <td>99.822</td>\n",
              "      <td>100.374</td>\n",
              "      <td>101.455</td>\n",
              "      <td>101.024</td>\n",
              "      <td>99.619</td>\n",
              "      <td>99.989</td>\n",
              "      <td>99.744</td>\n",
              "      <td>100.240</td>\n",
              "      <td>98.686</td>\n",
              "      <td>...</td>\n",
              "      <td>99.936</td>\n",
              "      <td>100.152</td>\n",
              "      <td>99.367</td>\n",
              "      <td>99.860</td>\n",
              "      <td>102.333</td>\n",
              "      <td>99.689</td>\n",
              "      <td>101.072</td>\n",
              "      <td>98.937</td>\n",
              "      <td>99.350</td>\n",
              "      <td>99.338</td>\n",
              "      <td>99.100</td>\n",
              "      <td>99.847</td>\n",
              "      <td>100.151</td>\n",
              "      <td>99.432</td>\n",
              "      <td>97.969</td>\n",
              "      <td>100.435</td>\n",
              "      <td>99.919</td>\n",
              "      <td>102.020</td>\n",
              "      <td>97.732</td>\n",
              "      <td>100.775</td>\n",
              "      <td>99.642</td>\n",
              "      <td>99.637</td>\n",
              "      <td>98.529</td>\n",
              "      <td>100.727</td>\n",
              "      <td>100.772</td>\n",
              "      <td>98.821</td>\n",
              "      <td>100.711</td>\n",
              "      <td>102.942</td>\n",
              "      <td>99.533</td>\n",
              "      <td>100.185</td>\n",
              "      <td>99.505</td>\n",
              "      <td>99.084</td>\n",
              "      <td>100.291</td>\n",
              "      <td>100.384</td>\n",
              "      <td>99.663</td>\n",
              "      <td>100.991</td>\n",
              "      <td>100.232</td>\n",
              "      <td>99.356</td>\n",
              "      <td>99.674</td>\n",
              "      <td>101.978</td>\n",
              "    </tr>\n",
              "    <tr>\n",
              "      <th>0.02</th>\n",
              "      <td>102.288</td>\n",
              "      <td>99.648</td>\n",
              "      <td>98.616</td>\n",
              "      <td>95.795</td>\n",
              "      <td>99.400</td>\n",
              "      <td>99.963</td>\n",
              "      <td>100.735</td>\n",
              "      <td>101.661</td>\n",
              "      <td>100.850</td>\n",
              "      <td>100.408</td>\n",
              "      <td>98.685</td>\n",
              "      <td>104.293</td>\n",
              "      <td>98.646</td>\n",
              "      <td>99.438</td>\n",
              "      <td>101.272</td>\n",
              "      <td>99.016</td>\n",
              "      <td>102.791</td>\n",
              "      <td>100.607</td>\n",
              "      <td>97.833</td>\n",
              "      <td>103.112</td>\n",
              "      <td>99.713</td>\n",
              "      <td>102.108</td>\n",
              "      <td>101.187</td>\n",
              "      <td>99.448</td>\n",
              "      <td>96.297</td>\n",
              "      <td>101.908</td>\n",
              "      <td>97.144</td>\n",
              "      <td>100.690</td>\n",
              "      <td>99.444</td>\n",
              "      <td>101.856</td>\n",
              "      <td>96.923</td>\n",
              "      <td>99.649</td>\n",
              "      <td>96.166</td>\n",
              "      <td>98.518</td>\n",
              "      <td>101.230</td>\n",
              "      <td>104.536</td>\n",
              "      <td>102.378</td>\n",
              "      <td>99.372</td>\n",
              "      <td>101.609</td>\n",
              "      <td>103.557</td>\n",
              "      <td>...</td>\n",
              "      <td>98.818</td>\n",
              "      <td>98.894</td>\n",
              "      <td>101.321</td>\n",
              "      <td>99.251</td>\n",
              "      <td>101.034</td>\n",
              "      <td>98.060</td>\n",
              "      <td>97.777</td>\n",
              "      <td>97.910</td>\n",
              "      <td>99.628</td>\n",
              "      <td>97.141</td>\n",
              "      <td>98.773</td>\n",
              "      <td>98.352</td>\n",
              "      <td>100.991</td>\n",
              "      <td>99.266</td>\n",
              "      <td>98.971</td>\n",
              "      <td>99.881</td>\n",
              "      <td>99.578</td>\n",
              "      <td>96.972</td>\n",
              "      <td>101.581</td>\n",
              "      <td>99.476</td>\n",
              "      <td>99.971</td>\n",
              "      <td>98.062</td>\n",
              "      <td>100.155</td>\n",
              "      <td>100.849</td>\n",
              "      <td>98.584</td>\n",
              "      <td>99.442</td>\n",
              "      <td>100.345</td>\n",
              "      <td>97.737</td>\n",
              "      <td>101.935</td>\n",
              "      <td>101.732</td>\n",
              "      <td>101.684</td>\n",
              "      <td>97.113</td>\n",
              "      <td>100.803</td>\n",
              "      <td>102.177</td>\n",
              "      <td>99.845</td>\n",
              "      <td>102.721</td>\n",
              "      <td>98.700</td>\n",
              "      <td>98.702</td>\n",
              "      <td>105.184</td>\n",
              "      <td>100.666</td>\n",
              "    </tr>\n",
              "    <tr>\n",
              "      <th>0.03</th>\n",
              "      <td>101.484</td>\n",
              "      <td>100.164</td>\n",
              "      <td>96.621</td>\n",
              "      <td>96.282</td>\n",
              "      <td>97.674</td>\n",
              "      <td>98.464</td>\n",
              "      <td>104.895</td>\n",
              "      <td>100.182</td>\n",
              "      <td>97.627</td>\n",
              "      <td>99.287</td>\n",
              "      <td>104.103</td>\n",
              "      <td>99.952</td>\n",
              "      <td>100.494</td>\n",
              "      <td>95.220</td>\n",
              "      <td>99.591</td>\n",
              "      <td>99.648</td>\n",
              "      <td>100.369</td>\n",
              "      <td>102.715</td>\n",
              "      <td>98.958</td>\n",
              "      <td>97.328</td>\n",
              "      <td>97.833</td>\n",
              "      <td>98.862</td>\n",
              "      <td>97.772</td>\n",
              "      <td>101.523</td>\n",
              "      <td>101.411</td>\n",
              "      <td>98.379</td>\n",
              "      <td>101.618</td>\n",
              "      <td>95.839</td>\n",
              "      <td>98.304</td>\n",
              "      <td>103.954</td>\n",
              "      <td>100.444</td>\n",
              "      <td>94.101</td>\n",
              "      <td>99.053</td>\n",
              "      <td>98.932</td>\n",
              "      <td>104.081</td>\n",
              "      <td>100.706</td>\n",
              "      <td>98.611</td>\n",
              "      <td>105.765</td>\n",
              "      <td>97.376</td>\n",
              "      <td>104.118</td>\n",
              "      <td>...</td>\n",
              "      <td>105.536</td>\n",
              "      <td>100.261</td>\n",
              "      <td>96.496</td>\n",
              "      <td>93.438</td>\n",
              "      <td>104.628</td>\n",
              "      <td>101.630</td>\n",
              "      <td>100.194</td>\n",
              "      <td>101.158</td>\n",
              "      <td>94.059</td>\n",
              "      <td>94.869</td>\n",
              "      <td>99.275</td>\n",
              "      <td>95.891</td>\n",
              "      <td>99.177</td>\n",
              "      <td>98.175</td>\n",
              "      <td>102.381</td>\n",
              "      <td>103.083</td>\n",
              "      <td>96.838</td>\n",
              "      <td>97.350</td>\n",
              "      <td>102.230</td>\n",
              "      <td>99.931</td>\n",
              "      <td>94.843</td>\n",
              "      <td>101.140</td>\n",
              "      <td>101.349</td>\n",
              "      <td>104.524</td>\n",
              "      <td>103.555</td>\n",
              "      <td>99.250</td>\n",
              "      <td>99.172</td>\n",
              "      <td>98.638</td>\n",
              "      <td>101.518</td>\n",
              "      <td>104.516</td>\n",
              "      <td>103.399</td>\n",
              "      <td>99.431</td>\n",
              "      <td>99.503</td>\n",
              "      <td>99.215</td>\n",
              "      <td>98.150</td>\n",
              "      <td>102.046</td>\n",
              "      <td>99.251</td>\n",
              "      <td>100.457</td>\n",
              "      <td>95.162</td>\n",
              "      <td>101.160</td>\n",
              "    </tr>\n",
              "    <tr>\n",
              "      <th>0.04</th>\n",
              "      <td>103.037</td>\n",
              "      <td>103.679</td>\n",
              "      <td>96.273</td>\n",
              "      <td>99.050</td>\n",
              "      <td>105.034</td>\n",
              "      <td>103.613</td>\n",
              "      <td>96.998</td>\n",
              "      <td>102.779</td>\n",
              "      <td>101.126</td>\n",
              "      <td>98.457</td>\n",
              "      <td>101.354</td>\n",
              "      <td>100.426</td>\n",
              "      <td>106.078</td>\n",
              "      <td>104.493</td>\n",
              "      <td>99.362</td>\n",
              "      <td>103.354</td>\n",
              "      <td>103.054</td>\n",
              "      <td>98.999</td>\n",
              "      <td>100.407</td>\n",
              "      <td>101.017</td>\n",
              "      <td>97.533</td>\n",
              "      <td>100.628</td>\n",
              "      <td>98.126</td>\n",
              "      <td>99.322</td>\n",
              "      <td>99.896</td>\n",
              "      <td>99.518</td>\n",
              "      <td>105.593</td>\n",
              "      <td>102.089</td>\n",
              "      <td>97.177</td>\n",
              "      <td>100.089</td>\n",
              "      <td>92.307</td>\n",
              "      <td>104.513</td>\n",
              "      <td>98.849</td>\n",
              "      <td>100.486</td>\n",
              "      <td>107.420</td>\n",
              "      <td>98.148</td>\n",
              "      <td>106.524</td>\n",
              "      <td>102.872</td>\n",
              "      <td>98.903</td>\n",
              "      <td>96.824</td>\n",
              "      <td>...</td>\n",
              "      <td>101.048</td>\n",
              "      <td>96.717</td>\n",
              "      <td>99.890</td>\n",
              "      <td>98.113</td>\n",
              "      <td>103.182</td>\n",
              "      <td>103.701</td>\n",
              "      <td>101.198</td>\n",
              "      <td>112.729</td>\n",
              "      <td>102.243</td>\n",
              "      <td>104.115</td>\n",
              "      <td>110.637</td>\n",
              "      <td>103.533</td>\n",
              "      <td>101.412</td>\n",
              "      <td>99.656</td>\n",
              "      <td>93.571</td>\n",
              "      <td>94.583</td>\n",
              "      <td>104.011</td>\n",
              "      <td>99.715</td>\n",
              "      <td>101.572</td>\n",
              "      <td>100.347</td>\n",
              "      <td>100.234</td>\n",
              "      <td>98.539</td>\n",
              "      <td>103.983</td>\n",
              "      <td>97.721</td>\n",
              "      <td>99.650</td>\n",
              "      <td>103.072</td>\n",
              "      <td>101.694</td>\n",
              "      <td>104.548</td>\n",
              "      <td>97.627</td>\n",
              "      <td>105.439</td>\n",
              "      <td>99.676</td>\n",
              "      <td>101.804</td>\n",
              "      <td>99.747</td>\n",
              "      <td>97.994</td>\n",
              "      <td>103.831</td>\n",
              "      <td>98.778</td>\n",
              "      <td>102.227</td>\n",
              "      <td>101.574</td>\n",
              "      <td>99.125</td>\n",
              "      <td>101.884</td>\n",
              "    </tr>\n",
              "  </tbody>\n",
              "</table>\n",
              "<p>5 rows × 1000 columns</p>\n",
              "</div>"
            ],
            "text/plain": [
              "         1        2        3        4     ...     997      998      999      1000\n",
              "0.00  100.000  100.000  100.000  100.000  ...  100.000  100.000  100.000  100.000\n",
              "0.01  101.038   99.899   99.422   99.735  ...  100.232   99.356   99.674  101.978\n",
              "0.02  102.288   99.648   98.616   95.795  ...   98.700   98.702  105.184  100.666\n",
              "0.03  101.484  100.164   96.621   96.282  ...   99.251  100.457   95.162  101.160\n",
              "0.04  103.037  103.679   96.273   99.050  ...  102.227  101.574   99.125  101.884\n",
              "\n",
              "[5 rows x 1000 columns]"
            ]
          },
          "metadata": {
            "tags": []
          },
          "execution_count": 2
        }
      ]
    },
    {
      "cell_type": "markdown",
      "metadata": {
        "id": "Kn-1gK4-Jtkd"
      },
      "source": [
        "We now have our randomly generated demands. all we need to do is find the optimal order quantity, maximising profit, for both options."
      ]
    },
    {
      "cell_type": "markdown",
      "metadata": {
        "id": "3CsiI5ARK792"
      },
      "source": [
        "#Single order\r\n",
        "\r\n",
        "With a single order, it makes things relatively easy. We order a certain quantity : if we don't have enough, we miss on the underage stock, and if we order too much, we incur the overage stock. We can then have the profit as\r\n",
        "$\\pi = Q(p-c)$ if we order not enough, or $\\pi = E(S)(p-c) + (Q-E(S))(s-c)$ if we order too much and have to liquidate the rest of the stock.\r\n",
        "\r\n",
        "Once I have all the profits, I will take the mean, standard deviation and quartiles and put them into a dataframe that will help me for the graph."
      ]
    },
    {
      "cell_type": "markdown",
      "metadata": {
        "id": "zuLb1zf8yRkj"
      },
      "source": [
        "We then need information about our order quantity. The newsvendor model gives us a critical fractile of $\\frac{Cu}{Cu+Co} = \\frac{p-c}{p-s}$ \\\\\r\n",
        "With the information given above, it gives us a critical fractile $crit.fract = \\frac{70}{90} \\approx 0.778 $ \\\\\r\n",
        "Now we need to determine the optimal order quantity."
      ]
    },
    {
      "cell_type": "code",
      "metadata": {
        "id": "yGiBo8_tzQw-"
      },
      "source": [
        "price = 100\r\n",
        "cost = 30\r\n",
        "residual = 10\r\n",
        "q = 0\r\n",
        "crit_fract = 7/9\r\n",
        "#z-score associated to the critical fractile\r\n",
        "z = norm.ppf(crit_fract)\r\n",
        "order_quantities = []\r\n",
        "#one order quantity per volatility value\r\n",
        "for i in range(101):\r\n",
        "  q = math.exp(i/100*z)*median\r\n",
        "  order_quantities.append((i/100,round(q,3)))"
      ],
      "execution_count": 3,
      "outputs": []
    },
    {
      "cell_type": "code",
      "metadata": {
        "colab": {
          "base_uri": "https://localhost:8080/"
        },
        "id": "bp_SHaBW0ai6",
        "outputId": "7768f4da-0d5d-4115-d63b-befa949bdd3f"
      },
      "source": [
        "print(order_quantities)"
      ],
      "execution_count": 4,
      "outputs": [
        {
          "output_type": "stream",
          "text": [
            "[(0.0, 100.0), (0.01, 100.768), (0.02, 101.541), (0.03, 102.321), (0.04, 103.106), (0.05, 103.898), (0.06, 104.695), (0.07, 105.499), (0.08, 106.309), (0.09, 107.125), (0.1, 107.947), (0.11, 108.776), (0.12, 109.611), (0.13, 110.452), (0.14, 111.3), (0.15, 112.154), (0.16, 113.015), (0.17, 113.883), (0.18, 114.757), (0.19, 115.638), (0.2, 116.526), (0.21, 117.42), (0.22, 118.322), (0.23, 119.23), (0.24, 120.145), (0.25, 121.067), (0.26, 121.997), (0.27, 122.933), (0.28, 123.877), (0.29, 124.828), (0.3, 125.786), (0.31, 126.752), (0.32, 127.725), (0.33, 128.705), (0.34, 129.693), (0.35, 130.689), (0.36, 131.692), (0.37, 132.703), (0.38, 133.722), (0.39, 134.748), (0.4, 135.782), (0.41, 136.825), (0.42, 137.875), (0.43, 138.933), (0.44, 140.0), (0.45, 141.075), (0.46, 142.158), (0.47, 143.249), (0.48, 144.349), (0.49, 145.457), (0.5, 146.573), (0.51, 147.698), (0.52, 148.832), (0.53, 149.975), (0.54, 151.126), (0.55, 152.286), (0.56, 153.455), (0.57, 154.633), (0.58, 155.82), (0.59, 157.016), (0.6, 158.222), (0.61, 159.436), (0.62, 160.66), (0.63, 161.893), (0.64, 163.136), (0.65, 164.388), (0.66, 165.65), (0.67, 166.922), (0.68, 168.203), (0.69, 169.494), (0.7, 170.796), (0.71, 172.107), (0.72, 173.428), (0.73, 174.759), (0.74, 176.101), (0.75, 177.452), (0.76, 178.815), (0.77, 180.187), (0.78, 181.57), (0.79, 182.964), (0.8, 184.369), (0.81, 185.784), (0.82, 187.21), (0.83, 188.647), (0.84, 190.095), (0.85, 191.555), (0.86, 193.025), (0.87, 194.507), (0.88, 196.0), (0.89, 197.505), (0.9, 199.021), (0.91, 200.548), (0.92, 202.088), (0.93, 203.639), (0.94, 205.202), (0.95, 206.778), (0.96, 208.365), (0.97, 209.965), (0.98, 211.576), (0.99, 213.2), (1.0, 214.837)]\n"
          ],
          "name": "stdout"
        }
      ]
    },
    {
      "cell_type": "markdown",
      "metadata": {
        "id": "eVk4ZS_A1Bv9"
      },
      "source": [
        "Now comes the interesting part (the part where I suffer because I'm not agile in python) : we determine the profit associated with each random demand."
      ]
    },
    {
      "cell_type": "code",
      "metadata": {
        "id": "CQ0qYutr_p-Z"
      },
      "source": [
        "profits_single = pd.DataFrame(columns=['Mean','standard deviation','First Quartile','Median','Third Quartile','Missed profit']) #we create a DataFrame that will store our final data\r\n",
        "#I maybe forgot to convert datatypes from object to numeric which causes issues for the plotting\r\n",
        "profits_single['Mean'] = pd.to_numeric(profits_single['Mean'],errors= 'coerce')\r\n",
        "profits_single['standard deviation'] = pd.to_numeric(profits_single['standard deviation'],errors= 'coerce')\r\n",
        "profits_single['First Quartile'] = pd.to_numeric(profits_single['First Quartile'],errors = 'coerce')\r\n",
        "profits_single['Median'] = pd.to_numeric(profits_single['Median'],errors = 'coerce')\r\n",
        "profits_single['Third Quartile'] = pd.to_numeric(profits_single['Third Quartile'],errors = 'coerce')\r\n",
        "profits_single['Missed profit'] = pd.to_numeric(profits_single['Missed profit'], errors = 'coerce')\r\n",
        "prof_vol = [] #profits per volatility, which gets cleared after each iteration. It will help to determine the quartiles\r\n",
        "missed_profits = 0\r\n",
        "for volatility in range(len(random_demand.index)): #we iterate for every volatility\r\n",
        "  prof_vol.clear()\r\n",
        "  missed_profits = 0\r\n",
        "  for observations in range(len(random_demand.columns)) : #we iterate for every observation\r\n",
        "    Q = order_quantities[volatility][1] #we want to access the 2nd info in our tuple, the quantity ordered for the associated volatility\r\n",
        "    S = random_demand.iloc[volatility,observations] #using iloc is preferred since it accesses the index, and not the value associated\r\n",
        "    if Q <= S : #if we order less or equal than is observed\r\n",
        "      prof_vol.append(Q*(price-cost))\r\n",
        "      missed_profits += (S-Q)*(price-cost) #it isn't an amount we lose, but that we could've got if we ordered more\r\n",
        "    else : #if we order too much\r\n",
        "      prof_vol.append(S*(price-cost) + (Q-S)*(residual-cost))\r\n",
        "  average = round(sum(prof_vol)/len(prof_vol),3)\r\n",
        "  first_quart = round(np.percentile(prof_vol,0.25),3)\r\n",
        "  median = round(np.percentile(prof_vol,0.50),3)\r\n",
        "  third_quart = round(np.percentile(prof_vol,0.75),3)\r\n",
        "  stddev = round(statistics.stdev(prof_vol),3)\r\n",
        "  #we then put everything into the dataframe\r\n",
        "  profits_single.loc[volatility/100] = [average,stddev,first_quart,median,third_quart,missed_profits]\r\n",
        "\r\n"
      ],
      "execution_count": 5,
      "outputs": []
    },
    {
      "cell_type": "code",
      "metadata": {
        "colab": {
          "base_uri": "https://localhost:8080/",
          "height": 419
        },
        "id": "-3F2qUayFoGW",
        "outputId": "1de436d8-c81c-4c70-faca-79cbc5b00bca"
      },
      "source": [
        "profits_single"
      ],
      "execution_count": 6,
      "outputs": [
        {
          "output_type": "execute_result",
          "data": {
            "text/html": [
              "<div>\n",
              "<style scoped>\n",
              "    .dataframe tbody tr th:only-of-type {\n",
              "        vertical-align: middle;\n",
              "    }\n",
              "\n",
              "    .dataframe tbody tr th {\n",
              "        vertical-align: top;\n",
              "    }\n",
              "\n",
              "    .dataframe thead th {\n",
              "        text-align: right;\n",
              "    }\n",
              "</style>\n",
              "<table border=\"1\" class=\"dataframe\">\n",
              "  <thead>\n",
              "    <tr style=\"text-align: right;\">\n",
              "      <th></th>\n",
              "      <th>Mean</th>\n",
              "      <th>standard deviation</th>\n",
              "      <th>First Quartile</th>\n",
              "      <th>Median</th>\n",
              "      <th>Third Quartile</th>\n",
              "      <th>Missed profit</th>\n",
              "    </tr>\n",
              "  </thead>\n",
              "  <tbody>\n",
              "    <tr>\n",
              "      <th>0.00</th>\n",
              "      <td>7000.000</td>\n",
              "      <td>0.000</td>\n",
              "      <td>7000.000</td>\n",
              "      <td>7000.000</td>\n",
              "      <td>7000.000</td>\n",
              "      <td>0.00</td>\n",
              "    </tr>\n",
              "    <tr>\n",
              "      <th>0.01</th>\n",
              "      <td>6978.400</td>\n",
              "      <td>72.254</td>\n",
              "      <td>6746.248</td>\n",
              "      <td>6767.455</td>\n",
              "      <td>6771.472</td>\n",
              "      <td>9634.66</td>\n",
              "    </tr>\n",
              "    <tr>\n",
              "      <th>0.02</th>\n",
              "      <td>6948.052</td>\n",
              "      <td>149.773</td>\n",
              "      <td>6486.013</td>\n",
              "      <td>6517.559</td>\n",
              "      <td>6524.218</td>\n",
              "      <td>17820.67</td>\n",
              "    </tr>\n",
              "    <tr>\n",
              "      <th>0.03</th>\n",
              "      <td>6921.381</td>\n",
              "      <td>223.122</td>\n",
              "      <td>6183.268</td>\n",
              "      <td>6235.049</td>\n",
              "      <td>6257.727</td>\n",
              "      <td>26288.78</td>\n",
              "    </tr>\n",
              "    <tr>\n",
              "      <th>0.04</th>\n",
              "      <td>6910.728</td>\n",
              "      <td>287.364</td>\n",
              "      <td>6027.256</td>\n",
              "      <td>6076.350</td>\n",
              "      <td>6125.022</td>\n",
              "      <td>44524.48</td>\n",
              "    </tr>\n",
              "    <tr>\n",
              "      <th>...</th>\n",
              "      <td>...</td>\n",
              "      <td>...</td>\n",
              "      <td>...</td>\n",
              "      <td>...</td>\n",
              "      <td>...</td>\n",
              "      <td>...</td>\n",
              "    </tr>\n",
              "    <tr>\n",
              "      <th>0.96</th>\n",
              "      <td>5966.082</td>\n",
              "      <td>6186.792</td>\n",
              "      <td>-3546.816</td>\n",
              "      <td>-3383.415</td>\n",
              "      <td>-3336.126</td>\n",
              "      <td>3700034.73</td>\n",
              "    </tr>\n",
              "    <tr>\n",
              "      <th>0.97</th>\n",
              "      <td>5890.297</td>\n",
              "      <td>6209.876</td>\n",
              "      <td>-3224.029</td>\n",
              "      <td>-3132.276</td>\n",
              "      <td>-3112.446</td>\n",
              "      <td>3324605.62</td>\n",
              "    </tr>\n",
              "    <tr>\n",
              "      <th>0.98</th>\n",
              "      <td>5695.076</td>\n",
              "      <td>6293.739</td>\n",
              "      <td>-3591.743</td>\n",
              "      <td>-3397.160</td>\n",
              "      <td>-3376.396</td>\n",
              "      <td>3084241.86</td>\n",
              "    </tr>\n",
              "    <tr>\n",
              "      <th>0.99</th>\n",
              "      <td>6144.050</td>\n",
              "      <td>6291.639</td>\n",
              "      <td>-3599.953</td>\n",
              "      <td>-3534.312</td>\n",
              "      <td>-3303.400</td>\n",
              "      <td>3470602.38</td>\n",
              "    </tr>\n",
              "    <tr>\n",
              "      <th>1.00</th>\n",
              "      <td>6074.455</td>\n",
              "      <td>6440.780</td>\n",
              "      <td>-3607.299</td>\n",
              "      <td>-3547.886</td>\n",
              "      <td>-3288.356</td>\n",
              "      <td>3379686.66</td>\n",
              "    </tr>\n",
              "  </tbody>\n",
              "</table>\n",
              "<p>101 rows × 6 columns</p>\n",
              "</div>"
            ],
            "text/plain": [
              "          Mean  standard deviation  ...  Third Quartile  Missed profit\n",
              "0.00  7000.000               0.000  ...        7000.000           0.00\n",
              "0.01  6978.400              72.254  ...        6771.472        9634.66\n",
              "0.02  6948.052             149.773  ...        6524.218       17820.67\n",
              "0.03  6921.381             223.122  ...        6257.727       26288.78\n",
              "0.04  6910.728             287.364  ...        6125.022       44524.48\n",
              "...        ...                 ...  ...             ...            ...\n",
              "0.96  5966.082            6186.792  ...       -3336.126     3700034.73\n",
              "0.97  5890.297            6209.876  ...       -3112.446     3324605.62\n",
              "0.98  5695.076            6293.739  ...       -3376.396     3084241.86\n",
              "0.99  6144.050            6291.639  ...       -3303.400     3470602.38\n",
              "1.00  6074.455            6440.780  ...       -3288.356     3379686.66\n",
              "\n",
              "[101 rows x 6 columns]"
            ]
          },
          "metadata": {
            "tags": []
          },
          "execution_count": 6
        }
      ]
    },
    {
      "cell_type": "markdown",
      "metadata": {
        "id": "ef_hP_e8F5aD"
      },
      "source": [
        "We notice that when the volatility gets insanely high, we actually make losses and we also see that the average is not a good indicator of distribution because it is extremely sensitive to extreme data (quartiles are negative, but mean is positive).\r\n",
        "\r\n",
        "Also, to no big surprise, when we have no volatility of demand, the profit has no variation because we order the exact number of units in demand.\r\n",
        "\r\n",
        "We can then plot the median profits :"
      ]
    },
    {
      "cell_type": "code",
      "metadata": {
        "colab": {
          "base_uri": "https://localhost:8080/",
          "height": 326
        },
        "id": "C7JpKikOHHKI",
        "outputId": "1e185c1f-1550-4506-a67e-11ce2410c8fd"
      },
      "source": [
        "fig, axes = plt.subplots(nrows =2, ncols =2)\r\n",
        "fig.tight_layout()\r\n",
        "\r\n",
        "profits_single['First Quartile'].plot(ax = axes[0,0])\r\n",
        "axes[0,0].axhline(y = 0, color = 'r', linestyle='-', linewidth = 0.5,label = 'net even line')\r\n",
        "axes[0,0].set_title('First Quartile profits')\r\n",
        "axes[0,0].legend()\r\n",
        "\r\n",
        "\r\n",
        "profits_single['Median'].plot(ax = axes[0,1])\r\n",
        "axes[0,1].axhline(y = 0, color = 'r', linestyle='-', linewidth = 0.5,label = 'net even line')\r\n",
        "axes[0,1].legend()\r\n",
        "axes[0,1].set_title('Median profits')\r\n",
        "\r\n",
        "profits_single['Third Quartile'].plot(ax = axes[1,0])\r\n",
        "axes[1,0].axhline(y = 0, color = 'r', linestyle='-', linewidth = 0.5,label = 'net even line')\r\n",
        "axes[1,0].set_title('Third Quartile profits')\r\n",
        "axes[1,0].legend()\r\n",
        "\r\n",
        "profits_single['Missed profit'].plot(ax = axes[1,1])\r\n",
        "axes[1,1].set_title('Missed Profits')"
      ],
      "execution_count": 82,
      "outputs": [
        {
          "output_type": "execute_result",
          "data": {
            "text/plain": [
              "Text(0.5, 1.0, 'Missed Profits')"
            ]
          },
          "metadata": {
            "tags": []
          },
          "execution_count": 82
        },
        {
          "output_type": "display_data",
          "data": {
            "image/png": "[encoded data removed]",
            "text/plain": [
              "<Figure size 432x288 with 4 Axes>"
            ]
          },
          "metadata": {
            "tags": [],
            "needs_background": "light"
          }
        }
      ]
    },
    {
      "cell_type": "markdown",
      "metadata": {
        "id": "nHAISzO1JGPc"
      },
      "source": [
        "We note that the median and quartiles of profits declines rapidly as the volatility rises, and I am quite surprised that it declines this fast, hitting negatives even before a volatility of 50%."
      ]
    },
    {
      "cell_type": "markdown",
      "metadata": {
        "id": "76Zq6AWtM5nd"
      },
      "source": [
        "# opportunity to reorder system\r\n",
        "\r\n",
        "Now we move on the second case : having the possibility of ordering another time if demand is not met. This doesn't change our overage cost, but it changes our underage cost and thus critical fractile, which becomes $crit.fract = \\frac{c'-c}{c'-s} = \\frac{3}{7} \\approx 0.429 $ \\\\\r\n",
        "Since the code doesn't change, only the values, I'll reuse the code from above."
      ]
    },
    {
      "cell_type": "code",
      "metadata": {
        "id": "JqepG4Gdb5Ea"
      },
      "source": [
        "crit_fract = 3/7\r\n",
        "prem_cost = 45\r\n",
        "q = 0\r\n",
        "median = 100\r\n",
        "#z-score associated to the critical fractile\r\n",
        "z = norm.ppf(crit_fract)\r\n",
        "order_quantities_mult = []\r\n",
        "#one order quantity per volatility value\r\n",
        "for i in range(101):\r\n",
        "  q = math.exp(i/100*z)*median\r\n",
        "  order_quantities_mult.append((i/100,round(q,3)))"
      ],
      "execution_count": 24,
      "outputs": []
    },
    {
      "cell_type": "code",
      "metadata": {
        "id": "cz5KRwiDeU2V"
      },
      "source": [
        "order_quantities_mult"
      ],
      "execution_count": null,
      "outputs": []
    },
    {
      "cell_type": "markdown",
      "metadata": {
        "id": "fAolFjrXc6JH"
      },
      "source": [
        "It is interesting to see that the higher the volatility, the safer we are on our order. \\\\\r\n",
        "Now that we have our order quantity, we again compare to effective sales. Note that the \"Missing Profits\" is missing because it is not relevant, since we order again to make up for the missed sales (it supposes that every customer not satisfied will buy once the order arrives, which might be a bit simplistic but perfect for our case)."
      ]
    },
    {
      "cell_type": "code",
      "metadata": {
        "id": "S5J6Di4fcC5W"
      },
      "source": [
        "profits_mult = pd.DataFrame(columns=['Mean','standard deviation','First Quartile','Median','Third Quartile']) #we create a DataFrame that will store our final data\r\n",
        "price = 100\r\n",
        "cost = 30\r\n",
        "prem_cost = 45\r\n",
        "residual = 10\r\n",
        "#I maybe forgot to convert datatypes from object to numeric which causes issues for the plotting\r\n",
        "profits_mult['Mean'] = pd.to_numeric(profits_mult['Mean'],errors= 'coerce')\r\n",
        "profits_mult['standard deviation'] = pd.to_numeric(profits_mult['standard deviation'],errors= 'coerce')\r\n",
        "profits_mult['First Quartile'] = pd.to_numeric(profits_mult['First Quartile'],errors = 'coerce')\r\n",
        "profits_mult['Median'] = pd.to_numeric(profits_mult['Median'],errors = 'coerce')\r\n",
        "profits_mult['Third Quartile'] = pd.to_numeric(profits_mult['Third Quartile'],errors = 'coerce')\r\n",
        "prof = 0\r\n",
        "prof_vol = [] #profits per volatility, which gets cleared after each iteration. It will help to determine the quartiles\r\n",
        "\r\n",
        "for volatility in range(len(random_demand.index)): #we iterate for every volatility\r\n",
        "  prof_vol.clear()\r\n",
        "  for observations in range(len(random_demand.columns)) : #we iterate for every observation\r\n",
        "    Q = order_quantities_mult[volatility][1] #we want to access the 2nd info in our tuple, the quantity ordered for the associated volatility\r\n",
        "    S = random_demand.iloc[volatility,observations] #using iloc is preferred since it accesses the index, and not the value associated\r\n",
        "    if Q <= S : #if we order less or equal than is observed\r\n",
        "      prof = Q*(price-cost) + (S-Q)*(price - prem_cost)\r\n",
        "      prof_vol.append(prof)\r\n",
        "    else : #if we order too much\r\n",
        "      prof = S*(price-cost) + (Q-S)*(residual-cost)\r\n",
        "      prof_vol.append(prof)\r\n",
        "  average = round(sum(prof_vol)/len(prof_vol),3)\r\n",
        "  first_quart = round(np.percentile(prof_vol,0.25),3)\r\n",
        "  median = round(np.percentile(prof_vol,0.50),3)\r\n",
        "  third_quart = round(np.percentile(prof_vol,0.75),3)\r\n",
        "  stddev = round(statistics.stdev(prof_vol),3)\r\n",
        "  #we then put everything into the dataframe\r\n",
        "  profits_mult.loc[volatility/100] = [average,stddev,first_quart,median,third_quart]"
      ],
      "execution_count": 29,
      "outputs": []
    },
    {
      "cell_type": "code",
      "metadata": {
        "colab": {
          "base_uri": "https://localhost:8080/",
          "height": 419
        },
        "id": "0n6huVnZeQiJ",
        "outputId": "6f5ddedb-f677-47f6-c602-8a4f55da540d"
      },
      "source": [
        "profits_mult"
      ],
      "execution_count": 30,
      "outputs": [
        {
          "output_type": "execute_result",
          "data": {
            "text/html": [
              "<div>\n",
              "<style scoped>\n",
              "    .dataframe tbody tr th:only-of-type {\n",
              "        vertical-align: middle;\n",
              "    }\n",
              "\n",
              "    .dataframe tbody tr th {\n",
              "        vertical-align: top;\n",
              "    }\n",
              "\n",
              "    .dataframe thead th {\n",
              "        text-align: right;\n",
              "    }\n",
              "</style>\n",
              "<table border=\"1\" class=\"dataframe\">\n",
              "  <thead>\n",
              "    <tr style=\"text-align: right;\">\n",
              "      <th></th>\n",
              "      <th>Mean</th>\n",
              "      <th>standard deviation</th>\n",
              "      <th>First Quartile</th>\n",
              "      <th>Median</th>\n",
              "      <th>Third Quartile</th>\n",
              "    </tr>\n",
              "  </thead>\n",
              "  <tbody>\n",
              "    <tr>\n",
              "      <th>0.00</th>\n",
              "      <td>7000.000</td>\n",
              "      <td>0.000</td>\n",
              "      <td>7000.000</td>\n",
              "      <td>7000.000</td>\n",
              "      <td>7000.000</td>\n",
              "    </tr>\n",
              "    <tr>\n",
              "      <th>0.01</th>\n",
              "      <td>6991.042</td>\n",
              "      <td>69.598</td>\n",
              "      <td>6765.208</td>\n",
              "      <td>6786.415</td>\n",
              "      <td>6790.432</td>\n",
              "    </tr>\n",
              "    <tr>\n",
              "      <th>0.02</th>\n",
              "      <td>6973.178</td>\n",
              "      <td>143.800</td>\n",
              "      <td>6524.013</td>\n",
              "      <td>6555.559</td>\n",
              "      <td>6562.218</td>\n",
              "    </tr>\n",
              "    <tr>\n",
              "      <th>0.03</th>\n",
              "      <td>6960.032</td>\n",
              "      <td>214.453</td>\n",
              "      <td>6240.468</td>\n",
              "      <td>6292.249</td>\n",
              "      <td>6314.927</td>\n",
              "    </tr>\n",
              "    <tr>\n",
              "      <th>0.04</th>\n",
              "      <td>6966.879</td>\n",
              "      <td>283.435</td>\n",
              "      <td>6103.716</td>\n",
              "      <td>6152.810</td>\n",
              "      <td>6201.482</td>\n",
              "    </tr>\n",
              "    <tr>\n",
              "      <th>...</th>\n",
              "      <td>...</td>\n",
              "      <td>...</td>\n",
              "      <td>...</td>\n",
              "      <td>...</td>\n",
              "      <td>...</td>\n",
              "    </tr>\n",
              "    <tr>\n",
              "      <th>0.96</th>\n",
              "      <td>9786.813</td>\n",
              "      <td>15540.483</td>\n",
              "      <td>-1062.116</td>\n",
              "      <td>-898.715</td>\n",
              "      <td>-851.426</td>\n",
              "    </tr>\n",
              "    <tr>\n",
              "      <th>0.97</th>\n",
              "      <td>9458.649</td>\n",
              "      <td>11194.551</td>\n",
              "      <td>-704.288</td>\n",
              "      <td>-612.536</td>\n",
              "      <td>-592.706</td>\n",
              "    </tr>\n",
              "    <tr>\n",
              "      <th>0.98</th>\n",
              "      <td>9143.001</td>\n",
              "      <td>11126.199</td>\n",
              "      <td>-1036.763</td>\n",
              "      <td>-842.180</td>\n",
              "      <td>-821.416</td>\n",
              "    </tr>\n",
              "    <tr>\n",
              "      <th>0.99</th>\n",
              "      <td>9805.004</td>\n",
              "      <td>11127.524</td>\n",
              "      <td>-1009.473</td>\n",
              "      <td>-943.832</td>\n",
              "      <td>-712.920</td>\n",
              "    </tr>\n",
              "    <tr>\n",
              "      <th>1.00</th>\n",
              "      <td>9677.420</td>\n",
              "      <td>11289.052</td>\n",
              "      <td>-981.079</td>\n",
              "      <td>-921.666</td>\n",
              "      <td>-662.136</td>\n",
              "    </tr>\n",
              "  </tbody>\n",
              "</table>\n",
              "<p>101 rows × 5 columns</p>\n",
              "</div>"
            ],
            "text/plain": [
              "          Mean  standard deviation  First Quartile    Median  Third Quartile\n",
              "0.00  7000.000               0.000        7000.000  7000.000        7000.000\n",
              "0.01  6991.042              69.598        6765.208  6786.415        6790.432\n",
              "0.02  6973.178             143.800        6524.013  6555.559        6562.218\n",
              "0.03  6960.032             214.453        6240.468  6292.249        6314.927\n",
              "0.04  6966.879             283.435        6103.716  6152.810        6201.482\n",
              "...        ...                 ...             ...       ...             ...\n",
              "0.96  9786.813           15540.483       -1062.116  -898.715        -851.426\n",
              "0.97  9458.649           11194.551        -704.288  -612.536        -592.706\n",
              "0.98  9143.001           11126.199       -1036.763  -842.180        -821.416\n",
              "0.99  9805.004           11127.524       -1009.473  -943.832        -712.920\n",
              "1.00  9677.420           11289.052        -981.079  -921.666        -662.136\n",
              "\n",
              "[101 rows x 5 columns]"
            ]
          },
          "metadata": {
            "tags": []
          },
          "execution_count": 30
        }
      ]
    },
    {
      "cell_type": "markdown",
      "metadata": {
        "id": "B4G48ZRWjLeB"
      },
      "source": [
        "This looks way better, however it is interesting to note that when the volatility closes to 100%, we are at a risk of making losses, even though it is greatly mitigated. Let's plot it !"
      ]
    },
    {
      "cell_type": "code",
      "metadata": {
        "colab": {
          "base_uri": "https://localhost:8080/",
          "height": 326
        },
        "id": "BFRhQciejXCY",
        "outputId": "621dc914-1941-46f4-fa3c-7699b068756a"
      },
      "source": [
        "fig, axes = plt.subplots(3,1)\r\n",
        "fig.tight_layout()\r\n",
        "\r\n",
        "profits_mult['First Quartile'].plot(ax = axes[0])\r\n",
        "axes[0].axhline(y = 0, color = 'r', linestyle='-', linewidth = 0.5,label = 'net even line')\r\n",
        "axes[0].set_title('First Quartile profits')\r\n",
        "axes[0].legend()\r\n",
        "\r\n",
        "profits_mult['Median'].plot(ax = axes[1])\r\n",
        "axes[1].axhline(y = 0, color = 'r', linestyle='-', linewidth = 0.5,label = 'net even line')\r\n",
        "axes[1].set_title('Median profits')\r\n",
        "\r\n",
        "profits_mult['Third Quartile'].plot(ax = axes[2])\r\n",
        "axes[2].axhline(y = 0, color = 'r', linestyle='-', linewidth = 0.5,label = 'net even line')\r\n",
        "axes[2].set_title('Third Quartile profits')\r\n",
        "\r\n"
      ],
      "execution_count": 80,
      "outputs": [
        {
          "output_type": "execute_result",
          "data": {
            "text/plain": [
              "Text(0.5, 1.0, 'Third Quartile profits')"
            ]
          },
          "metadata": {
            "tags": []
          },
          "execution_count": 80
        },
        {
          "output_type": "display_data",
          "data": {
            "image/png": "[encoded data removed]",
            "text/plain": [
              "<Figure size 432x288 with 3 Axes>"
            ]
          },
          "metadata": {
            "tags": [],
            "needs_background": "light"
          }
        }
      ]
    },
    {
      "cell_type": "markdown",
      "metadata": {
        "id": "EfHU10mGjizv"
      },
      "source": [
        "This looks way better ! We see that we are mostly positive, except for high volatilities."
      ]
    },
    {
      "cell_type": "markdown",
      "metadata": {
        "id": "71teXdxSjngs"
      },
      "source": [
        "# Comparison and conclusion"
      ]
    },
    {
      "cell_type": "markdown",
      "metadata": {
        "id": "-GjzE3sMkc8m"
      },
      "source": [
        "Now I want to see if there's a dominance between the alternatives. The fact that I only took moments of the profits and didn't keep raw data prevents me to determine a deterministic dominance, but we can at least see if it's stochastic."
      ]
    },
    {
      "cell_type": "code",
      "metadata": {
        "colab": {
          "base_uri": "https://localhost:8080/",
          "height": 775
        },
        "id": "H0aOucjUlVkN",
        "outputId": "4767ff1c-cc8a-41df-f1cf-225a2150287f"
      },
      "source": [
        "fig, axes = plt.subplots(nrows =3, ncols =1)\r\n",
        "fig.set_figheight(10)\r\n",
        "fig.set_figwidth(10)\r\n",
        "fig.tight_layout()\r\n",
        "plt.figure(figsize=(50,10))\r\n",
        "\r\n",
        "\r\n",
        "profits_single['First Quartile'].plot(ax = axes[0], label = 'Single order')\r\n",
        "profits_mult['First Quartile'].plot(ax = axes[0], label = 'Multiple orders')\r\n",
        "axes[0].axhline(y = 0, color = 'r', linestyle='-', linewidth = 0.5, label = 'net even line')\r\n",
        "axes[0].set_title('First Quartile profits')\r\n",
        "axes[0].legend()\r\n",
        "\r\n",
        "profits_single['Median'].plot(ax = axes[1],label = 'Single order')\r\n",
        "profits_mult['Median'].plot(ax = axes[1])\r\n",
        "axes[1].axhline(y = 0, color = 'r', linestyle='-', linewidth = 0.5,label = 'net even line')\r\n",
        "axes[1].set_title('Median profits')\r\n",
        "axes[1].legend()\r\n",
        "\r\n",
        "profits_single['Third Quartile'].plot(ax = axes[2], label='Single order')\r\n",
        "profits_mult['Third Quartile'].plot(ax = axes[2], label = 'Multiple orders')\r\n",
        "axes[2].axhline(y = 0, color = 'r', linestyle='-', linewidth = 0.5,label = 'net even line')\r\n",
        "axes[2].set_title('Third Quartile profits')\r\n",
        "axes[2].legend()"
      ],
      "execution_count": 77,
      "outputs": [
        {
          "output_type": "execute_result",
          "data": {
            "text/plain": [
              "<matplotlib.legend.Legend at 0x7f3ed147b990>"
            ]
          },
          "metadata": {
            "tags": []
          },
          "execution_count": 77
        },
        {
          "output_type": "display_data",
          "data": {
            "image/png": "[encoded data removed]",
            "text/plain": [
              "<Figure size 720x720 with 3 Axes>"
            ]
          },
          "metadata": {
            "tags": [],
            "needs_background": "light"
          }
        },
        {
          "output_type": "display_data",
          "data": {
            "text/plain": [
              "<Figure size 3600x720 with 0 Axes>"
            ]
          },
          "metadata": {
            "tags": []
          }
        }
      ]
    },
    {
      "cell_type": "markdown",
      "metadata": {
        "id": "lhRNyVEguxGz"
      },
      "source": [
        "We can clearly see that even though we play it safer by ordering twice (critical fractile is lower), it pays off in the long run because the premium cost isn't high enough in this case (obviously, the higher the premium cost, the more expensive it gets to mispredict demand). We can clearly see that the dominance is stochastic.\r\n",
        "\r\n",
        "This result is a bit of a surprise to me, because I thought that this conclusion would depend on volatility. Sadly, Prof. de Treville you were right, once again. But at least I did the maths."
      ]
    }
  ]
}